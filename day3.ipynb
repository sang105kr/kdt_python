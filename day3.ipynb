{
  "nbformat": 4,
  "nbformat_minor": 0,
  "metadata": {
    "colab": {
      "provenance": [],
      "collapsed_sections": [
        "3Vb40-beKm__",
        "bV1sssQ9LJLn",
        "fTWu6U3iLmd-",
        "YzkReAMaMTCK",
        "TfIy0Gj0NYi3",
        "gWiah4VrOfel",
        "3hfsH6FibPtS"
      ],
      "toc_visible": true,
      "authorship_tag": "ABX9TyNps4wnzMmLs4lnEamEOGh/",
      "include_colab_link": true
    },
    "kernelspec": {
      "name": "python3",
      "display_name": "Python 3"
    },
    "language_info": {
      "name": "python"
    }
  },
  "cells": [
    {
      "cell_type": "markdown",
      "metadata": {
        "id": "view-in-github",
        "colab_type": "text"
      },
      "source": [
        "<a href=\"https://colab.research.google.com/github/sang105kr/kdt_python/blob/main/day3.ipynb\" target=\"_parent\"><img src=\"https://colab.research.google.com/assets/colab-badge.svg\" alt=\"Open In Colab\"/></a>"
      ]
    },
    {
      "cell_type": "markdown",
      "source": [
        "## 함수 매개변수의 종류"
      ],
      "metadata": {
        "id": "NgSsCBh8SEkN"
      }
    },
    {
      "cell_type": "markdown",
      "source": [
        "### 위치 매개변수 positional parameter"
      ],
      "metadata": {
        "id": "3Vb40-beKm__"
      }
    },
    {
      "cell_type": "code",
      "execution_count": 1,
      "metadata": {
        "id": "qzifUra5NLeb",
        "colab": {
          "base_uri": "https://localhost:8080/"
        },
        "outputId": "48314687-97a8-41e7-db27-cba4b6af8f30"
      },
      "outputs": [
        {
          "output_type": "stream",
          "name": "stdout",
          "text": [
            "5\n"
          ]
        }
      ],
      "source": [
        "def add(a,b):\n",
        "  return a + b\n",
        "\n",
        "result = add(2,3)\n",
        "print(result)\n"
      ]
    },
    {
      "cell_type": "markdown",
      "source": [
        "### 기본값을 가진 매개변수(default parameters)"
      ],
      "metadata": {
        "id": "bV1sssQ9LJLn"
      }
    },
    {
      "cell_type": "code",
      "source": [
        "def add(a,b,c=10):\n",
        "  return a + b + c\n",
        "\n",
        "result = add(2,3)\n",
        "print(result)\n",
        "\n",
        "result = add(2,3,4)\n",
        "print(result)"
      ],
      "metadata": {
        "colab": {
          "base_uri": "https://localhost:8080/"
        },
        "id": "1bA_92R1LGZm",
        "outputId": "b2c31224-3efa-41fd-e294-2cfc25c73e89"
      },
      "execution_count": 3,
      "outputs": [
        {
          "output_type": "stream",
          "name": "stdout",
          "text": [
            "15\n",
            "9\n"
          ]
        }
      ]
    },
    {
      "cell_type": "markdown",
      "source": [
        "### 키워드 매개변수(keyword parameters)"
      ],
      "metadata": {
        "id": "fTWu6U3iLmd-"
      }
    },
    {
      "cell_type": "code",
      "source": [
        "def add(a,b,c=10):\n",
        "  print(f'a,b,c = {a},{b},{c}')\n",
        "  return a + b + c\n",
        "\n",
        "result = add(b=5,a=10)\n",
        "print(result)"
      ],
      "metadata": {
        "colab": {
          "base_uri": "https://localhost:8080/"
        },
        "id": "bOUbPh4YLqx2",
        "outputId": "891efb10-c483-449f-8e85-4f4fb1cd08a8"
      },
      "execution_count": 5,
      "outputs": [
        {
          "output_type": "stream",
          "name": "stdout",
          "text": [
            "a,b,c = 10,5,10\n",
            "25\n"
          ]
        }
      ]
    },
    {
      "cell_type": "markdown",
      "source": [
        "### 가변 위치 매개변수(Variable Position Parameters)\n",
        "  - 가변 : 인자의 갯수를 알 수 없을때\n",
        "  - 매개변수 : 함수 내부에서는 튜플로 사용됨"
      ],
      "metadata": {
        "id": "YzkReAMaMTCK"
      }
    },
    {
      "cell_type": "code",
      "source": [
        "def add(*args):\n",
        "  sum = 0\n",
        "  for ele in args:\n",
        "    sum += ele\n",
        "  return sum\n",
        "\n",
        "result = add(3)\n",
        "print(result)\n",
        "\n",
        "result = add(3,2)\n",
        "print(result)\n",
        "\n",
        "result = add(3,2,5)\n",
        "print(result)"
      ],
      "metadata": {
        "colab": {
          "base_uri": "https://localhost:8080/"
        },
        "id": "kKB0jYxzMhnP",
        "outputId": "5a816e5c-8f38-464f-ef42-4185725ffe27"
      },
      "execution_count": 7,
      "outputs": [
        {
          "output_type": "stream",
          "name": "stdout",
          "text": [
            "3\n",
            "5\n",
            "10\n"
          ]
        }
      ]
    },
    {
      "cell_type": "markdown",
      "source": [
        "### 가변 키워드 매개변수(Variable Keyword Parameters)\n",
        "  - 가변 : 인자의 갯수를 알 수 없을때\n",
        "  - 매개변수 : 함수 내부에서는 딕셔너리로 사용됨"
      ],
      "metadata": {
        "id": "TfIy0Gj0NYi3"
      }
    },
    {
      "cell_type": "code",
      "source": [
        "def print_person(**kwargs):\n",
        "  for key,value in kwargs.items():\n",
        "    print(f'{key}-{value}')\n",
        "\n",
        "print_person(name='홍길동')\n",
        "print_person(name='홍길동',age=20)\n",
        "print_person(name='홍길동',age=20,gender='남자')"
      ],
      "metadata": {
        "colab": {
          "base_uri": "https://localhost:8080/"
        },
        "id": "g3QivAXVNcZy",
        "outputId": "91412ed4-499c-4a1a-e7d8-1115ebad72fe"
      },
      "execution_count": 22,
      "outputs": [
        {
          "output_type": "stream",
          "name": "stdout",
          "text": [
            "name-홍길동\n",
            "name-홍길동\n",
            "age-20\n",
            "name-홍길동\n",
            "age-20\n",
            "gender-남자\n"
          ]
        }
      ]
    },
    {
      "cell_type": "markdown",
      "source": [
        "### 키워드 전용 매개변수(Keyword-only Parameters)\n",
        "  - \\* 또는 *args 다음에 오는 매개변수는 키워드 인자만 받을수 있다.\n"
      ],
      "metadata": {
        "id": "gWiah4VrOfel"
      }
    },
    {
      "cell_type": "code",
      "source": [
        "def do_action(*person,action,something):\n",
        "\n",
        "  for ele in person:\n",
        "    print(ele)\n",
        "\n",
        "  print(f'Actioning {action} {something}')\n",
        "\n",
        "# do_action('delete','data')\n",
        "do_action(action='delete', something='data')\n",
        "\n",
        "do_action('홍길동',action='delete', something='data')\n",
        "do_action('홍길동','20',action='delete', something='data')\n",
        "\n"
      ],
      "metadata": {
        "colab": {
          "base_uri": "https://localhost:8080/"
        },
        "id": "IAoTPqrQOe-k",
        "outputId": "2bacda6b-d138-46c0-ab1a-975813ad82b8"
      },
      "execution_count": 18,
      "outputs": [
        {
          "output_type": "stream",
          "name": "stdout",
          "text": [
            "Actioning delete data\n",
            "홍길동\n",
            "Actioning delete data\n",
            "홍길동\n",
            "20\n",
            "Actioning delete data\n"
          ]
        }
      ]
    },
    {
      "cell_type": "markdown",
      "source": [
        "### 위치 전용 매개변수(Keyword-only Parameters)\n",
        "  - / 앞에 있는 매개변수를 위치 전용 매개 변수로 지정"
      ],
      "metadata": {
        "id": "P0gd2qxIRAA3"
      }
    },
    {
      "cell_type": "code",
      "source": [
        "def multiply(a,b,/):\n",
        "  return a*b\n",
        "\n",
        "\n",
        "result = multiply(10,20)\n",
        "print(result)\n",
        "\n",
        "# result = multiply(a=10,b=20)\n"
      ],
      "metadata": {
        "colab": {
          "base_uri": "https://localhost:8080/"
        },
        "id": "xmjmRf8URNb1",
        "outputId": "00b1f768-2f6f-4373-ae80-4c2f72da4ebc"
      },
      "execution_count": 21,
      "outputs": [
        {
          "output_type": "stream",
          "name": "stdout",
          "text": [
            "200\n"
          ]
        }
      ]
    },
    {
      "cell_type": "markdown",
      "source": [
        "### if~else 단축문\n",
        "  - 조건부 표현식(Conditional Expresstion)"
      ],
      "metadata": {
        "id": "3hfsH6FibPtS"
      }
    },
    {
      "cell_type": "code",
      "source": [
        "age = 20\n",
        "status = \"성인\" if age >= 18 else \"미성연자\"\n",
        "print(status)"
      ],
      "metadata": {
        "colab": {
          "base_uri": "https://localhost:8080/"
        },
        "id": "ur24J0E-bWAE",
        "outputId": "75a7e833-70b5-4691-9c47-78c12e4bce2b"
      },
      "execution_count": 23,
      "outputs": [
        {
          "output_type": "stream",
          "name": "stdout",
          "text": [
            "성인\n"
          ]
        }
      ]
    },
    {
      "cell_type": "markdown",
      "source": [
        "### 리스트 컴프리헨션(List Comprehension)\n",
        "  - 리스트를 생성하는 간결한 방법\n",
        "  - 일반적인 반복문보다 짧은 코드로 같은 작업을 수행"
      ],
      "metadata": {
        "id": "lbr9pa1qbaF6"
      }
    },
    {
      "cell_type": "code",
      "source": [
        "numbers = [1,2,3,4,5]\n",
        "new_list = [ '크다' if x*2 > 5 else '작다' for x in numbers if x % 2 == 0 ]\n",
        "print(new_list)"
      ],
      "metadata": {
        "colab": {
          "base_uri": "https://localhost:8080/"
        },
        "id": "9PSjSr21bgMH",
        "outputId": "b3d91eb1-84a8-49ec-fb2f-1863e81801c0"
      },
      "execution_count": 28,
      "outputs": [
        {
          "output_type": "stream",
          "name": "stdout",
          "text": [
            "['작다', '크다']\n"
          ]
        }
      ]
    },
    {
      "cell_type": "markdown",
      "source": [
        "## 클래스"
      ],
      "metadata": {
        "id": "FvI1HxeAfnvS"
      }
    },
    {
      "cell_type": "code",
      "source": [
        "class Person :\n",
        "  # 정적 필드\n",
        "  numberOfPerson = 0\n",
        "\n",
        "  # 생성자 메소드\n",
        "  def __init__(self,name,age):\n",
        "    # 인스턴스 필드\n",
        "    self.name = name\n",
        "    self.age = age\n",
        "    Person.numberOfPerson += 1\n",
        "\n",
        "  # 인스턴스 메소드\n",
        "  def smile(self):\n",
        "    print(f'{self.name}가 웃다')\n",
        "\n",
        "  def eat(self):\n",
        "    print(f'{self.name}가 먹다')\n",
        "\n",
        "  # 정적 메소드\n",
        "  @staticmethod\n",
        "  def displayNumberOfPerple():\n",
        "    print(f'사람수 : {Person.numberOfPerson}')\n",
        "\n",
        "\n",
        "Person.displayNumberOfPerple()\n",
        "print(Person.numberOfPerson)\n",
        "\n",
        "p1 = Person('홍길동',20)\n",
        "print(id(p1))\n",
        "p1.smile()\n",
        "p1.eat()\n",
        "Person.displayNumberOfPerple()\n",
        "print(Person.numberOfPerson)\n",
        "\n",
        "\n",
        "p2 = Person('홍길순',30)\n",
        "p2.smile()\n",
        "p2.eat()\n",
        "Person.displayNumberOfPerple()\n",
        "print(Person.numberOfPerson)\n",
        "\n",
        "\n",
        "\n"
      ],
      "metadata": {
        "colab": {
          "base_uri": "https://localhost:8080/"
        },
        "id": "KU0unaxXflF0",
        "outputId": "498f2fcd-98c5-445e-8401-7a951853c114"
      },
      "execution_count": 42,
      "outputs": [
        {
          "output_type": "stream",
          "name": "stdout",
          "text": [
            "사람수 : 0\n",
            "0\n",
            "137367641509264\n",
            "홍길동가 웃다\n",
            "홍길동가 먹다\n",
            "사람수 : 1\n",
            "1\n",
            "홍길순가 웃다\n",
            "홍길순가 먹다\n",
            "사람수 : 2\n",
            "2\n"
          ]
        }
      ]
    },
    {
      "cell_type": "code",
      "source": [
        "class Student(Person) :\n",
        "\n",
        "  # 파이썬에서 오버로딩은 기본값을 가진 매개변수, 키워드 매개변수, 가변 매개변수를 사용해서 유사한 효과를 줄 수 있다.\n",
        "  def __init__(self,name,age,studentId=None,major=None):\n",
        "    # 부모생성자 호출\n",
        "    super().__init__(name,age)\n",
        "    if studentId is not None and major is not None :\n",
        "      self.studentId = studentId\n",
        "      self.major = major\n",
        "    elif studentId is not None:\n",
        "      self.studentId = studentId\n",
        "    elif major is not None:\n",
        "      self.major = major\n",
        "    else:\n",
        "      pass\n",
        "\n",
        "  def study(self):\n",
        "    print(f'{self.name}가 공부한다')\n",
        "\n",
        "  # 메소드 재정의\n",
        "  def eat(self):\n",
        "    print(f'{self.name}가 많이 먹다')\n",
        "\n",
        "\n",
        "s1 = Student('학생1',20)\n",
        "s1.smile()\n",
        "s1.eat()\n",
        "s1.study()\n",
        "\n",
        "s2 = Student('학생2',20, 2024)\n",
        "s2.smile()\n",
        "s2.eat()\n",
        "s2.study()\n",
        "\n",
        "s3 = Student('학생3',20, 2024, '컴퓨터공학')\n",
        "s3.smile()\n",
        "s3.eat()\n",
        "s3.study()\n",
        "\n",
        "s3.name = '학생4'\n",
        "print(s3.name)\n",
        "\n",
        "\n"
      ],
      "metadata": {
        "colab": {
          "base_uri": "https://localhost:8080/"
        },
        "id": "6jVUBM4AqDuv",
        "outputId": "fd0e9bf7-15bb-47d8-f5da-5e879940e72f"
      },
      "execution_count": 51,
      "outputs": [
        {
          "output_type": "stream",
          "name": "stdout",
          "text": [
            "학생1가 웃다\n",
            "학생1가 많이 먹다\n",
            "학생1가 공부한다\n",
            "학생2가 웃다\n",
            "학생2가 많이 먹다\n",
            "학생2가 공부한다\n",
            "학생3가 웃다\n",
            "학생3가 많이 먹다\n",
            "학생3가 공부한다\n",
            "학생4\n"
          ]
        }
      ]
    }
  ]
}